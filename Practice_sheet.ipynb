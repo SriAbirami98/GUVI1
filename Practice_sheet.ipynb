{
  "nbformat": 4,
  "nbformat_minor": 0,
  "metadata": {
    "colab": {
      "provenance": [],
      "authorship_tag": "ABX9TyPYCx3UkqP534kXVKh3FXqb",
      "include_colab_link": true
    },
    "kernelspec": {
      "name": "python3",
      "display_name": "Python 3"
    },
    "language_info": {
      "name": "python"
    }
  },
  "cells": [
    {
      "cell_type": "markdown",
      "metadata": {
        "id": "view-in-github",
        "colab_type": "text"
      },
      "source": [
        "<a href=\"https://colab.research.google.com/github/SriAbirami98/GUVI1/blob/main/Practice_sheet.ipynb\" target=\"_parent\"><img src=\"https://colab.research.google.com/assets/colab-badge.svg\" alt=\"Open In Colab\"/></a>"
      ]
    },
    {
      "cell_type": "code",
      "execution_count": null,
      "metadata": {
        "id": "9oDOqvFsc4O8"
      },
      "outputs": [],
      "source": [
        "# More \"For loop\" practice codes"
      ]
    },
    {
      "cell_type": "code",
      "source": [
        "# 1. Print Numbers from 1 to 10:"
      ],
      "metadata": {
        "id": "UIHCJ7IFdH3W"
      },
      "execution_count": null,
      "outputs": []
    },
    {
      "cell_type": "code",
      "source": [
        "for numbers in range(2, 12):\n",
        "  print(numbers)"
      ],
      "metadata": {
        "colab": {
          "base_uri": "https://localhost:8080/"
        },
        "id": "F7qSw68rl8qv",
        "outputId": "c039e0ea-e4cc-49a4-ffcd-35dfd4454fec"
      },
      "execution_count": null,
      "outputs": [
        {
          "output_type": "stream",
          "name": "stdout",
          "text": [
            "2\n",
            "3\n",
            "4\n",
            "5\n",
            "6\n",
            "7\n",
            "8\n",
            "9\n",
            "10\n",
            "11\n"
          ]
        }
      ]
    },
    {
      "cell_type": "code",
      "source": [
        "#2. Print Even Numbers from 2 to 20:\n",
        "\n",
        "for numbers in range(2, 21, 2):\n",
        "  print(numbers)\n"
      ],
      "metadata": {
        "colab": {
          "base_uri": "https://localhost:8080/"
        },
        "id": "--SOYytQnUfd",
        "outputId": "e89f09d4-5be7-493e-c1cc-6a4683bbbe7c"
      },
      "execution_count": null,
      "outputs": [
        {
          "output_type": "stream",
          "name": "stdout",
          "text": [
            "2\n",
            "4\n",
            "6\n",
            "8\n",
            "10\n",
            "12\n",
            "14\n",
            "16\n",
            "18\n",
            "20\n"
          ]
        }
      ]
    },
    {
      "cell_type": "code",
      "source": [
        "# 3. Sum of Numbers from 1 to 100:\n",
        "\n",
        "sum_of_number = 0\n",
        "for numbers in range(1,101):\n",
        "  sum_of_number += numbers\n",
        "  print(sum_of_number)"
      ],
      "metadata": {
        "colab": {
          "base_uri": "https://localhost:8080/"
        },
        "id": "PhuF9pfQn_3B",
        "outputId": "3a7e76e5-08c3-4354-d53e-6b2979778012"
      },
      "execution_count": null,
      "outputs": [
        {
          "output_type": "stream",
          "name": "stdout",
          "text": [
            "1\n",
            "3\n",
            "6\n",
            "10\n",
            "15\n",
            "21\n",
            "28\n",
            "36\n",
            "45\n",
            "55\n",
            "66\n",
            "78\n",
            "91\n",
            "105\n",
            "120\n",
            "136\n",
            "153\n",
            "171\n",
            "190\n",
            "210\n",
            "231\n",
            "253\n",
            "276\n",
            "300\n",
            "325\n",
            "351\n",
            "378\n",
            "406\n",
            "435\n",
            "465\n",
            "496\n",
            "528\n",
            "561\n",
            "595\n",
            "630\n",
            "666\n",
            "703\n",
            "741\n",
            "780\n",
            "820\n",
            "861\n",
            "903\n",
            "946\n",
            "990\n",
            "1035\n",
            "1081\n",
            "1128\n",
            "1176\n",
            "1225\n",
            "1275\n",
            "1326\n",
            "1378\n",
            "1431\n",
            "1485\n",
            "1540\n",
            "1596\n",
            "1653\n",
            "1711\n",
            "1770\n",
            "1830\n",
            "1891\n",
            "1953\n",
            "2016\n",
            "2080\n",
            "2145\n",
            "2211\n",
            "2278\n",
            "2346\n",
            "2415\n",
            "2485\n",
            "2556\n",
            "2628\n",
            "2701\n",
            "2775\n",
            "2850\n",
            "2926\n",
            "3003\n",
            "3081\n",
            "3160\n",
            "3240\n",
            "3321\n",
            "3403\n",
            "3486\n",
            "3570\n",
            "3655\n",
            "3741\n",
            "3828\n",
            "3916\n",
            "4005\n",
            "4095\n",
            "4186\n",
            "4278\n",
            "4371\n",
            "4465\n",
            "4560\n",
            "4656\n",
            "4753\n",
            "4851\n",
            "4950\n",
            "5050\n"
          ]
        }
      ]
    },
    {
      "cell_type": "code",
      "source": [
        "Name = \"abi \"\n",
        "repeated_srting = Name * 5\n",
        "print(repeated_srting)"
      ],
      "metadata": {
        "colab": {
          "base_uri": "https://localhost:8080/"
        },
        "id": "Joii5AzqW3_u",
        "outputId": "3daf1c90-0038-487d-8952-2624221fad75"
      },
      "execution_count": null,
      "outputs": [
        {
          "output_type": "stream",
          "name": "stdout",
          "text": [
            "abi abi abi abi abi \n"
          ]
        }
      ]
    },
    {
      "cell_type": "code",
      "source": [
        "Title = \"Hello abi, welcome to learning path!\"\n",
        "titlesstring = Title.title()\n",
        "print(titlesstring)"
      ],
      "metadata": {
        "colab": {
          "base_uri": "https://localhost:8080/"
        },
        "id": "_ETK2PKGXp3q",
        "outputId": "1c11adac-fbf8-4325-c548-55a9ebc1b27e"
      },
      "execution_count": null,
      "outputs": [
        {
          "output_type": "stream",
          "name": "stdout",
          "text": [
            "Hello Abi, Welcome To Learning Path!\n"
          ]
        }
      ]
    },
    {
      "cell_type": "code",
      "source": [
        "Name = \"Abirami\"\n",
        "Split = list(Name)\n",
        "print(Split)"
      ],
      "metadata": {
        "colab": {
          "base_uri": "https://localhost:8080/"
        },
        "id": "iVJ_K9DWYX4S",
        "outputId": "7f692814-3893-44af-aa9b-d61c56802069"
      },
      "execution_count": null,
      "outputs": [
        {
          "output_type": "stream",
          "name": "stdout",
          "text": [
            "['A', 'b', 'i', 'r', 'a', 'm', 'i']\n"
          ]
        }
      ]
    },
    {
      "cell_type": "code",
      "source": [
        "my_string = \"Python\"\n",
        "right_pad = my_string.rjust(10, \"+\")\n",
        "print(right_pad)\n"
      ],
      "metadata": {
        "colab": {
          "base_uri": "https://localhost:8080/"
        },
        "id": "IeLykBkeY6Ob",
        "outputId": "597458a2-ca40-4a7a-a8ba-f7f7760bcc56"
      },
      "execution_count": null,
      "outputs": [
        {
          "output_type": "stream",
          "name": "stdout",
          "text": [
            "++++Python\n"
          ]
        }
      ]
    },
    {
      "cell_type": "code",
      "source": [
        "List_of_names = ['Abi', 'sanjana', 'sangeetha']\n",
        "List_of_names.append('kishor')\n",
        "for  name in List_of_names:\n",
        "  print(List_of_names)"
      ],
      "metadata": {
        "colab": {
          "base_uri": "https://localhost:8080/"
        },
        "id": "ByMlrn-CO1Iu",
        "outputId": "9d0b7e21-81c8-454c-ab11-4a15d54560f0"
      },
      "execution_count": null,
      "outputs": [
        {
          "output_type": "stream",
          "name": "stdout",
          "text": [
            "['Abi', 'sanjana', 'sangeetha', 'kishor']\n",
            "['Abi', 'sanjana', 'sangeetha', 'kishor']\n",
            "['Abi', 'sanjana', 'sangeetha', 'kishor']\n",
            "['Abi', 'sanjana', 'sangeetha', 'kishor']\n"
          ]
        }
      ]
    },
    {
      "cell_type": "code",
      "source": [
        "rcb=\"Winn\"\n",
        "if(rcb==\"Win\"):\n",
        "  print(\"RCB is the best team\")\n",
        "else:\n",
        "  print(\"RCB is not the best team\")"
      ],
      "metadata": {
        "colab": {
          "base_uri": "https://localhost:8080/"
        },
        "id": "z9_H_970xzXp",
        "outputId": "ef77a6f9-1400-4dba-efa2-fa52d050ce1e"
      },
      "execution_count": null,
      "outputs": [
        {
          "output_type": "stream",
          "name": "stdout",
          "text": [
            "RCB is not the best team\n"
          ]
        }
      ]
    },
    {
      "cell_type": "code",
      "source": [
        "Meghna=input(\"Died or not \")\n",
        "if(Meghna==\"Died\"):\n",
        "  print(\"We miss you meghna\")\n",
        "else:\n",
        "  print(\"Meghna you are the best pair for surya\")"
      ],
      "metadata": {
        "colab": {
          "base_uri": "https://localhost:8080/"
        },
        "id": "_-ppKrQ60qZJ",
        "outputId": "d38d0374-952b-43ef-92ce-4efcae55b4d6"
      },
      "execution_count": null,
      "outputs": [
        {
          "output_type": "stream",
          "name": "stdout",
          "text": [
            "Died or not Died\n",
            "We miss you meghna\n"
          ]
        }
      ]
    },
    {
      "cell_type": "code",
      "source": [
        "Score=int(input(\"Score:\"))\n",
        "if(Score<34):\n",
        "   print(\"Poor student\")\n",
        "elif(Score>30 and Score<75):\n",
        "   print(\"Average student\")\n",
        "else:\n",
        "   print(\"Excellent student\")\n"
      ],
      "metadata": {
        "colab": {
          "base_uri": "https://localhost:8080/"
        },
        "id": "2WCJ3pPJOywM",
        "outputId": "4ca76c42-68c0-4d31-c29c-0e64bff8c3d0"
      },
      "execution_count": null,
      "outputs": [
        {
          "output_type": "stream",
          "name": "stdout",
          "text": [
            "Score:32\n",
            "Poor student\n"
          ]
        }
      ]
    },
    {
      "cell_type": "code",
      "source": [
        "#1. Check if a number is positive, negative, or zero\n",
        "#Problem:\n",
        "#Write a program that checks if the given number is positive, negative, or zero.\n",
        "\n",
        "Number=int(input(\"Enter a number: \"))\n",
        "if(Number>0):\n",
        "  print(\"positive\")\n",
        "elif(Number<0):\n",
        "  print(\"negative\")\n",
        "else:\n",
        "  print(\"Zero\")"
      ],
      "metadata": {
        "colab": {
          "base_uri": "https://localhost:8080/"
        },
        "id": "A1Qzn8nIQ-Cv",
        "outputId": "2d4ef888-4575-4faa-c331-49fda3d719b6"
      },
      "execution_count": null,
      "outputs": [
        {
          "output_type": "stream",
          "name": "stdout",
          "text": [
            "Enter a number: 0\n",
            "Zero\n"
          ]
        }
      ]
    },
    {
      "cell_type": "code",
      "source": [
        "#2. Check if a number is even or odd\n",
        "#Problem:\n",
        "#Write a program that checks if a number is even or odd.\n",
        "\n",
        "Number=int(input(\"Enter the number: \"))\n",
        "if(Number%2==0):\n",
        "  print(\"Even\")\n",
        "else:\n",
        "  print(\"Odd\")"
      ],
      "metadata": {
        "colab": {
          "base_uri": "https://localhost:8080/"
        },
        "id": "2tSIXGDJRhmp",
        "outputId": "5ebb4780-8e50-48d0-bc76-1d730b91c07a"
      },
      "execution_count": null,
      "outputs": [
        {
          "output_type": "stream",
          "name": "stdout",
          "text": [
            "Enter the number: 31\n",
            "Odd\n"
          ]
        }
      ]
    },
    {
      "cell_type": "code",
      "source": [
        "A=int(input(\"A: \"))\n",
        "B=int(input(\"B: \"))\n",
        "Operation=input(\"Add,sub,mul or div: \")\n",
        "if(Operation==\"Add\"):\n",
        "  print(A+B)\n",
        "elif(Operation==\"sub\"):\n",
        "  print(A-B)\n",
        "elif(Operation==\"mul\"):\n",
        "  print(A*B)\n",
        "elif(Operation==\"div\"):\n",
        "  print(A/B)\n",
        "else:\n",
        "  print(\"invalid operation\")"
      ],
      "metadata": {
        "colab": {
          "base_uri": "https://localhost:8080/"
        },
        "id": "ad24_j-9WyhU",
        "outputId": "c91eb783-aa1e-4c7c-e6b0-4f3a1fd139f1"
      },
      "execution_count": null,
      "outputs": [
        {
          "output_type": "stream",
          "name": "stdout",
          "text": [
            "A: 1\n",
            "B: 2\n",
            "Add,sub,mul or div: Add\n",
            "3\n"
          ]
        }
      ]
    },
    {
      "cell_type": "code",
      "source": [
        "Salary = int(input(\"Salary: \"))\n",
        "Age = int(input(\"Age: \"))\n",
        "if (Salary>=20000 or Age>=20):\n",
        "  Loan = int(input(\"Loan: \"))\n",
        "  if (Loan>50000):\n",
        "    print(\"Maximum Loan limit is 50000\")\n",
        "  else:\n",
        "    print(\"You are eligible\")\n",
        "else:\n",
        "  print(\"You are not eligible\")"
      ],
      "metadata": {
        "colab": {
          "base_uri": "https://localhost:8080/"
        },
        "id": "2zK1dGGDwmg_",
        "outputId": "14ad543f-03e9-4333-d992-0acfda6955df"
      },
      "execution_count": null,
      "outputs": [
        {
          "output_type": "stream",
          "name": "stdout",
          "text": [
            "Salary: 21000\n",
            "Age: 21\n",
            "Loan: 44444\n",
            "You are eligible\n"
          ]
        }
      ]
    },
    {
      "cell_type": "code",
      "source": [
        "Tamil=int(input(\"Tamil Score: \"))\n",
        "English=int(input(\"English Score: \"))\n",
        "Science=int(input(\"Science Score: \"))\n",
        "EVS=int(input(\"EVS Score: \"))\n",
        "Social=int(input(\"Socila Score: \"))\n",
        "Total=(Tamil+English+Science+EVS+Social)/5\n",
        "if(Total>=35):\n",
        "  print(\"You are good to go\")\n",
        "else:\n",
        "  print(\"Need additional coaching\")\n"
      ],
      "metadata": {
        "colab": {
          "base_uri": "https://localhost:8080/"
        },
        "id": "qTsfq-JgzNSz",
        "outputId": "380c94ab-bbb0-414a-9819-f56671ab312d"
      },
      "execution_count": null,
      "outputs": [
        {
          "output_type": "stream",
          "name": "stdout",
          "text": [
            "Tamil Score: 45\n",
            "English Score: 243\n",
            "Science Score: 23\n",
            "EVS Score: 32\n",
            "Socila Score: 4\n",
            "You are good to go\n"
          ]
        }
      ]
    },
    {
      "cell_type": "code",
      "source": [
        "#For Loop practice code"
      ],
      "metadata": {
        "id": "fCsXDwSBxcYs"
      },
      "execution_count": null,
      "outputs": []
    },
    {
      "cell_type": "code",
      "source": [
        "for i in range(1,11):\n",
        "  print(i,\"X 2 =\", i*2)\n"
      ],
      "metadata": {
        "colab": {
          "base_uri": "https://localhost:8080/"
        },
        "id": "kuIWshi-xhWT",
        "outputId": "59ac0544-a55c-4daf-e962-b9893da42e66"
      },
      "execution_count": null,
      "outputs": [
        {
          "output_type": "stream",
          "name": "stdout",
          "text": [
            "1 X 2 = 2\n",
            "2 X 2 = 4\n",
            "3 X 2 = 6\n",
            "4 X 2 = 8\n",
            "5 X 2 = 10\n",
            "6 X 2 = 12\n",
            "7 X 2 = 14\n",
            "8 X 2 = 16\n",
            "9 X 2 = 18\n",
            "10 X 2 = 20\n"
          ]
        }
      ]
    },
    {
      "cell_type": "code",
      "source": [
        "number = list(range(1,11))\n",
        "even_count= len([i for i in number if i%2==0])\n",
        "odd_count= len([i for i in number if i%2!=0])\n",
        "print(even_count)\n",
        "print(odd_count)"
      ],
      "metadata": {
        "colab": {
          "base_uri": "https://localhost:8080/"
        },
        "id": "gy9I9koE04dn",
        "outputId": "5e17060b-8b05-49f6-c772-fefb8860fcec"
      },
      "execution_count": null,
      "outputs": [
        {
          "output_type": "stream",
          "name": "stdout",
          "text": [
            "5\n",
            "5\n"
          ]
        }
      ]
    },
    {
      "cell_type": "code",
      "source": [
        "e_count=0\n",
        "o_count=0\n",
        "for i in range(1,11):\n",
        "  if(i%2==0):\n",
        "   e_count=e_count + 1\n",
        "  else:\n",
        "    o_count=o_count + 1\n",
        "print(e_count)\n",
        "print(o_count)\n"
      ],
      "metadata": {
        "colab": {
          "base_uri": "https://localhost:8080/"
        },
        "id": "vPioFVV-VuAr",
        "outputId": "71fbabbd-1659-430b-b84e-d982b0bc83f8"
      },
      "execution_count": null,
      "outputs": [
        {
          "output_type": "stream",
          "name": "stdout",
          "text": [
            "5\n",
            "5\n"
          ]
        }
      ]
    },
    {
      "cell_type": "code",
      "source": [
        "#count the number which are divisible by 3 and 5 range 1 to 100"
      ],
      "metadata": {
        "id": "UF4wwsV-CLB1"
      },
      "execution_count": null,
      "outputs": []
    },
    {
      "cell_type": "code",
      "source": [
        "Count=0\n",
        "for i in range(1,101):\n",
        "  if(i%3==0 and i%5==0):\n",
        "    Count=Count + 1\n",
        "    print(Count)"
      ],
      "metadata": {
        "colab": {
          "base_uri": "https://localhost:8080/"
        },
        "id": "I_NJb0gsCTbW",
        "outputId": "ef144f50-3e92-4a78-8f55-cd3a980ff8f8"
      },
      "execution_count": null,
      "outputs": [
        {
          "output_type": "stream",
          "name": "stdout",
          "text": [
            "1\n",
            "2\n",
            "3\n",
            "4\n",
            "5\n",
            "6\n"
          ]
        }
      ]
    },
    {
      "cell_type": "code",
      "source": [
        "#Sum the count of first 5 natural numbers"
      ],
      "metadata": {
        "id": "nh5Z_DFhEXa-"
      },
      "execution_count": null,
      "outputs": []
    },
    {
      "cell_type": "code",
      "source": [
        "Sum = 0\n",
        "for i in range(1,6):\n",
        "  Sum = Sum+i\n",
        "print(Sum)"
      ],
      "metadata": {
        "colab": {
          "base_uri": "https://localhost:8080/"
        },
        "id": "oVyI3GLgEbTh",
        "outputId": "e37f3e14-2981-44cc-ab40-12f515c31e3d"
      },
      "execution_count": null,
      "outputs": [
        {
          "output_type": "stream",
          "name": "stdout",
          "text": [
            "15\n"
          ]
        }
      ]
    },
    {
      "cell_type": "code",
      "source": [
        "#Sum and average a 10 random inputs"
      ],
      "metadata": {
        "id": "fbBKJ3yIFQ0X"
      },
      "execution_count": null,
      "outputs": []
    },
    {
      "cell_type": "code",
      "source": [
        "a=[10,20,30,40,50,60,70,80,90,100]\n",
        "b=sum(a)\n",
        "c=b/10\n",
        "print(b)\n",
        "print(c)"
      ],
      "metadata": {
        "colab": {
          "base_uri": "https://localhost:8080/"
        },
        "id": "v72kxYQvFVM4",
        "outputId": "0169b5c9-6447-4208-cb03-19174f01cd7f"
      },
      "execution_count": null,
      "outputs": [
        {
          "output_type": "stream",
          "name": "stdout",
          "text": [
            "550\n",
            "55.0\n"
          ]
        }
      ]
    },
    {
      "cell_type": "code",
      "source": [
        "#display first 7 natural numbers"
      ],
      "metadata": {
        "id": "oyvwGNk6i_sF"
      },
      "execution_count": null,
      "outputs": []
    },
    {
      "cell_type": "code",
      "source": [
        "sum=0\n",
        "for i in range(1,8):\n",
        "  sum=sum+i\n",
        "print(sum)\n"
      ],
      "metadata": {
        "colab": {
          "base_uri": "https://localhost:8080/"
        },
        "id": "H5QDvNnnjCkY",
        "outputId": "9d720372-6000-4cd5-98b7-17d7cb38cd40"
      },
      "execution_count": null,
      "outputs": [
        {
          "output_type": "stream",
          "name": "stdout",
          "text": [
            "28\n"
          ]
        }
      ]
    },
    {
      "cell_type": "code",
      "source": [
        "for i in range(1,6):\n",
        "  cube=i**3\n",
        "  print(f\"Enter a number {i} and the cube of {i} is:{cube}\")"
      ],
      "metadata": {
        "colab": {
          "base_uri": "https://localhost:8080/"
        },
        "id": "XsjlwcAxlEmy",
        "outputId": "6e54c1f7-ffac-4714-eb30-685f284556bc"
      },
      "execution_count": null,
      "outputs": [
        {
          "output_type": "stream",
          "name": "stdout",
          "text": [
            "Enter a number 1 and the cube of 1 is:1\n",
            "Enter a number 2 and the cube of 2 is:8\n",
            "Enter a number 3 and the cube of 3 is:27\n",
            "Enter a number 4 and the cube of 4 is:64\n",
            "Enter a number 5 and the cube of 5 is:125\n"
          ]
        }
      ]
    },
    {
      "cell_type": "code",
      "source": [
        "word = 'programming'\n",
        "character = 'g'\n",
        "count=0\n",
        "for i in word:\n",
        "  if i==character:\n",
        "    count=+1\n",
        "    print(count)"
      ],
      "metadata": {
        "colab": {
          "base_uri": "https://localhost:8080/"
        },
        "id": "5_0kaZzY-nYs",
        "outputId": "79f99e28-4683-4505-e0a5-c9c172dcd079"
      },
      "execution_count": null,
      "outputs": [
        {
          "output_type": "stream",
          "name": "stdout",
          "text": [
            "1\n",
            "1\n"
          ]
        }
      ]
    },
    {
      "cell_type": "code",
      "source": [
        "vowel=[\"a\",'e','i','o','u']\n",
        "word=\"programming\"\n",
        "count=0\n",
        "for character in word:\n",
        "  if character not in vowel:\n",
        "    count=+1\n",
        "    print(count)"
      ],
      "metadata": {
        "colab": {
          "base_uri": "https://localhost:8080/"
        },
        "id": "36iWaOnn_l4f",
        "outputId": "74fe177e-fb57-4808-db68-49c13f3f0f7f"
      },
      "execution_count": null,
      "outputs": [
        {
          "output_type": "stream",
          "name": "stdout",
          "text": [
            "1\n",
            "1\n",
            "1\n",
            "1\n",
            "1\n",
            "1\n",
            "1\n",
            "1\n"
          ]
        }
      ]
    },
    {
      "cell_type": "code",
      "source": [
        "i=10\n",
        "while(i>0):\n",
        "  print(i)\n",
        "  i=i-1"
      ],
      "metadata": {
        "colab": {
          "base_uri": "https://localhost:8080/"
        },
        "id": "M1b0fQV4aoJ5",
        "outputId": "c8cb217d-8241-493a-e36e-16d5975ad6fa"
      },
      "execution_count": null,
      "outputs": [
        {
          "output_type": "stream",
          "name": "stdout",
          "text": [
            "10\n",
            "9\n",
            "8\n",
            "7\n",
            "6\n",
            "5\n",
            "4\n",
            "3\n",
            "2\n",
            "1\n"
          ]
        }
      ]
    },
    {
      "cell_type": "code",
      "source": [
        "\n",
        "def add():\n",
        "  a=int(input(\"enter a number: \"))\n",
        "  b=int(input(\"enter a number: \"))\n",
        "  print(a+b)\n",
        "add()"
      ],
      "metadata": {
        "colab": {
          "base_uri": "https://localhost:8080/"
        },
        "id": "uR3JF8dj_zfq",
        "outputId": "7cd49584-381f-4163-97f9-3d44cbec0291"
      },
      "execution_count": null,
      "outputs": [
        {
          "output_type": "stream",
          "name": "stdout",
          "text": [
            "enter a number: 1\n",
            "enter a number: 2\n",
            "3\n"
          ]
        }
      ]
    }
  ]
}